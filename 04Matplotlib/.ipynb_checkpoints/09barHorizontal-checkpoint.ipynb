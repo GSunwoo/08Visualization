{
 "cells": [
  {
   "cell_type": "code",
   "execution_count": 1,
   "id": "cc06e501-935e-46cd-9d00-8b4a5f6a236f",
   "metadata": {},
   "outputs": [],
   "source": [
    "import pandas as pd\n",
    "import matplotlib.pyplot as plt\n",
    "from  matplotlib import font_manager, rc"
   ]
  },
  {
   "cell_type": "code",
   "execution_count": 2,
   "id": "abfec89f-b608-4888-974c-c8677faf5625",
   "metadata": {},
   "outputs": [],
   "source": [
    "# 한글 깨짐방지 설정\n",
    "font_path = '../resData/malgun.ttf'\n",
    "font_name = font_manager.FontProperties(fname=font_path).get_name()\n",
    "rc('font', family=font_name)"
   ]
  },
  {
   "cell_type": "code",
   "execution_count": 3,
   "id": "a1d39c4c-75cb-4c90-a219-62a6697b83f7",
   "metadata": {},
   "outputs": [
    {
     "name": "stderr",
     "output_type": "stream",
     "text": [
      "C:\\Users\\kosmo\\AppData\\Local\\Temp\\ipykernel_12416\\4292662334.py:2: FutureWarning: DataFrame.fillna with 'method' is deprecated and will raise in a future version. Use obj.ffill() or obj.bfill() instead.\n",
      "  df = df.fillna(method='ffill')\n"
     ]
    }
   ],
   "source": [
    "df = pd.read_excel('../resData/시도별_전출입_인구수.xlsx', engine='openpyxl', header=0)\n",
    "df = df.fillna(method='ffill')\n",
    "mask = (df['전출지별']=='서울특별시') & (df['전입지별']!='서울특별시')\n",
    "df_seoul = df[mask]\n",
    "df_seoul = df_seoul.drop(['전출지별'], axis=1)\n",
    "df_seoul.rename({'전입지별':'전입지'}, axis=1, inplace=True)\n",
    "df_seoul.set_index('전입지',inplace=True)"
   ]
  },
  {
   "cell_type": "code",
   "execution_count": 4,
   "id": "a4f2e078-6736-4742-99dc-b2accf538b96",
   "metadata": {},
   "outputs": [],
   "source": [
    "# 연도를 2010~2017까지로 설정\n",
    "col_years = list(map(str, range(2010, 2018)))\n",
    "# 연도를 적용하여 각 4개의 도를 추출\n",
    "df4 = df_seoul.loc[['충청남도','경상북도','강원도','전라남도'], col_years]"
   ]
  },
  {
   "cell_type": "code",
   "execution_count": 8,
   "id": "f9a158bc-096c-4a47-9963-3f384203fcd5",
   "metadata": {},
   "outputs": [
    {
     "data": {
      "text/plain": [
       "['2010', '2011', '2012', '2013', '2014', '2015', '2016', '2017']"
      ]
     },
     "execution_count": 8,
     "metadata": {},
     "output_type": "execute_result"
    }
   ],
   "source": [
    "col_years"
   ]
  },
  {
   "cell_type": "code",
   "execution_count": 5,
   "id": "077e6716-4ae9-4afb-acb0-1834dd56f482",
   "metadata": {},
   "outputs": [],
   "source": [
    "df4['합계'] = df4.sum(axis=1)"
   ]
  },
  {
   "cell_type": "code",
   "execution_count": 6,
   "id": "c42e298a-a546-4ae1-be55-3a4fb890f3fb",
   "metadata": {},
   "outputs": [
    {
     "data": {
      "text/html": [
       "<div>\n",
       "<style scoped>\n",
       "    .dataframe tbody tr th:only-of-type {\n",
       "        vertical-align: middle;\n",
       "    }\n",
       "\n",
       "    .dataframe tbody tr th {\n",
       "        vertical-align: top;\n",
       "    }\n",
       "\n",
       "    .dataframe thead th {\n",
       "        text-align: right;\n",
       "    }\n",
       "</style>\n",
       "<table border=\"1\" class=\"dataframe\">\n",
       "  <thead>\n",
       "    <tr style=\"text-align: right;\">\n",
       "      <th></th>\n",
       "      <th>2010</th>\n",
       "      <th>2011</th>\n",
       "      <th>2012</th>\n",
       "      <th>2013</th>\n",
       "      <th>2014</th>\n",
       "      <th>2015</th>\n",
       "      <th>2016</th>\n",
       "      <th>2017</th>\n",
       "      <th>합계</th>\n",
       "    </tr>\n",
       "    <tr>\n",
       "      <th>전입지</th>\n",
       "      <th></th>\n",
       "      <th></th>\n",
       "      <th></th>\n",
       "      <th></th>\n",
       "      <th></th>\n",
       "      <th></th>\n",
       "      <th></th>\n",
       "      <th></th>\n",
       "      <th></th>\n",
       "    </tr>\n",
       "  </thead>\n",
       "  <tbody>\n",
       "    <tr>\n",
       "      <th>충청남도</th>\n",
       "      <td>24522</td>\n",
       "      <td>24723</td>\n",
       "      <td>22269</td>\n",
       "      <td>21486</td>\n",
       "      <td>21473</td>\n",
       "      <td>22299</td>\n",
       "      <td>21741</td>\n",
       "      <td>21020</td>\n",
       "      <td>179533</td>\n",
       "    </tr>\n",
       "    <tr>\n",
       "      <th>경상북도</th>\n",
       "      <td>16042</td>\n",
       "      <td>15818</td>\n",
       "      <td>15191</td>\n",
       "      <td>14420</td>\n",
       "      <td>14456</td>\n",
       "      <td>15113</td>\n",
       "      <td>14236</td>\n",
       "      <td>12464</td>\n",
       "      <td>117740</td>\n",
       "    </tr>\n",
       "    <tr>\n",
       "      <th>강원도</th>\n",
       "      <td>22736</td>\n",
       "      <td>23624</td>\n",
       "      <td>22332</td>\n",
       "      <td>20601</td>\n",
       "      <td>21173</td>\n",
       "      <td>22659</td>\n",
       "      <td>21590</td>\n",
       "      <td>21016</td>\n",
       "      <td>175731</td>\n",
       "    </tr>\n",
       "    <tr>\n",
       "      <th>전라남도</th>\n",
       "      <td>16429</td>\n",
       "      <td>15974</td>\n",
       "      <td>14765</td>\n",
       "      <td>14187</td>\n",
       "      <td>14591</td>\n",
       "      <td>14598</td>\n",
       "      <td>13065</td>\n",
       "      <td>12426</td>\n",
       "      <td>116035</td>\n",
       "    </tr>\n",
       "  </tbody>\n",
       "</table>\n",
       "</div>"
      ],
      "text/plain": [
       "       2010   2011   2012   2013   2014   2015   2016   2017      합계\n",
       "전입지                                                                 \n",
       "충청남도  24522  24723  22269  21486  21473  22299  21741  21020  179533\n",
       "경상북도  16042  15818  15191  14420  14456  15113  14236  12464  117740\n",
       "강원도   22736  23624  22332  20601  21173  22659  21590  21016  175731\n",
       "전라남도  16429  15974  14765  14187  14591  14598  13065  12426  116035"
      ]
     },
     "execution_count": 6,
     "metadata": {},
     "output_type": "execute_result"
    }
   ],
   "source": [
    "df4"
   ]
  },
  {
   "cell_type": "code",
   "execution_count": 7,
   "id": "e33da930-089f-4e55-8169-b983f995eb54",
   "metadata": {},
   "outputs": [],
   "source": [
    "df_total = df4[['합계']].sort_values(by='합계', ascending=True)"
   ]
  },
  {
   "cell_type": "code",
   "execution_count": 9,
   "id": "d99d17ba-ef79-4c9e-b828-0551182f6736",
   "metadata": {},
   "outputs": [
    {
     "data": {
      "text/html": [
       "<div>\n",
       "<style scoped>\n",
       "    .dataframe tbody tr th:only-of-type {\n",
       "        vertical-align: middle;\n",
       "    }\n",
       "\n",
       "    .dataframe tbody tr th {\n",
       "        vertical-align: top;\n",
       "    }\n",
       "\n",
       "    .dataframe thead th {\n",
       "        text-align: right;\n",
       "    }\n",
       "</style>\n",
       "<table border=\"1\" class=\"dataframe\">\n",
       "  <thead>\n",
       "    <tr style=\"text-align: right;\">\n",
       "      <th></th>\n",
       "      <th>합계</th>\n",
       "    </tr>\n",
       "    <tr>\n",
       "      <th>전입지</th>\n",
       "      <th></th>\n",
       "    </tr>\n",
       "  </thead>\n",
       "  <tbody>\n",
       "    <tr>\n",
       "      <th>전라남도</th>\n",
       "      <td>116035</td>\n",
       "    </tr>\n",
       "    <tr>\n",
       "      <th>경상북도</th>\n",
       "      <td>117740</td>\n",
       "    </tr>\n",
       "    <tr>\n",
       "      <th>강원도</th>\n",
       "      <td>175731</td>\n",
       "    </tr>\n",
       "    <tr>\n",
       "      <th>충청남도</th>\n",
       "      <td>179533</td>\n",
       "    </tr>\n",
       "  </tbody>\n",
       "</table>\n",
       "</div>"
      ],
      "text/plain": [
       "          합계\n",
       "전입지         \n",
       "전라남도  116035\n",
       "경상북도  117740\n",
       "강원도   175731\n",
       "충청남도  179533"
      ]
     },
     "execution_count": 9,
     "metadata": {},
     "output_type": "execute_result"
    }
   ],
   "source": [
    "df_total"
   ]
  },
  {
   "cell_type": "code",
   "execution_count": 16,
   "id": "6e94f8f6-4d7f-4548-8618-32701473bd8a",
   "metadata": {},
   "outputs": [
    {
     "data": {
      "text/plain": [
       "Text(0.5, 0, '이동 인구 수')"
      ]
     },
     "execution_count": 16,
     "metadata": {},
     "output_type": "execute_result"
    },
    {
     "data": {
      "image/png": "[encoded data removed]",
      "text/plain": [
       "<Figure size 1000x500 with 1 Axes>"
      ]
     },
     "metadata": {},
     "output_type": "display_data"
    }
   ],
   "source": [
    "plt.style.use('ggplot')\n",
    "df_total.plot(kind='barh', color='cornflowerblue', width=0.5, figsize=(10,5))\n",
    "plt.title('서울 -> 타시도 인구 이동')\n",
    "plt.ylabel('전입지')\n",
    "plt.xlabel('이동 인구 수')"
   ]
  }
 ],
 "metadata": {
  "kernelspec": {
   "display_name": "base",
   "language": "python",
   "name": "base"
  },
  "language_info": {
   "codemirror_mode": {
    "name": "ipython",
    "version": 3
   },
   "file_extension": ".py",
   "mimetype": "text/x-python",
   "name": "python",
   "nbconvert_exporter": "python",
   "pygments_lexer": "ipython3",
   "version": "3.13.2"
  }
 },
 "nbformat": 4,
 "nbformat_minor": 5
}
